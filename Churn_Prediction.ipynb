{
  "nbformat": 4,
  "nbformat_minor": 0,
  "metadata": {
    "colab": {
      "name": "Churn Prediction.ipynb",
      "provenance": [],
      "mount_file_id": "1g3cUnUy-ShFSaJGCUKPt9kK2AJRaALBt",
      "authorship_tag": "ABX9TyN6B2HSAI8UBCGnhTQO/KkF",
      "include_colab_link": true
    },
    "kernelspec": {
      "name": "python3",
      "display_name": "Python 3"
    },
    "language_info": {
      "name": "python"
    }
  },
  "cells": [
    {
      "cell_type": "markdown",
      "metadata": {
        "id": "view-in-github",
        "colab_type": "text"
      },
      "source": [
        "<a href=\"https://colab.research.google.com/github/Yamini584/Churn-Prediction/blob/main/Churn_Prediction.ipynb\" target=\"_parent\"><img src=\"https://colab.research.google.com/assets/colab-badge.svg\" alt=\"Open In Colab\"/></a>"
      ]
    },
    {
      "cell_type": "markdown",
      "metadata": {
        "id": "LA_1Vnuo1PFx"
      },
      "source": [
        "Importing Dataset & Libraries"
      ]
    },
    {
      "cell_type": "code",
      "metadata": {
        "id": "7wb5JZEFqHpA"
      },
      "source": [
        "import pandas as pd\n",
        "df=pd.read_csv(\"/content/drive/MyDrive/Colab Notebooks/ML Practice/Logistic regression example/churn_prediction.csv\")"
      ],
      "execution_count": null,
      "outputs": []
    },
    {
      "cell_type": "markdown",
      "metadata": {
        "id": "LvPNCyCa1V7e"
      },
      "source": [
        "Viewing the first 5 values in dataset"
      ]
    },
    {
      "cell_type": "code",
      "metadata": {
        "colab": {
          "base_uri": "https://localhost:8080/",
          "height": 222
        },
        "id": "Pyvz1Hzeqy9a",
        "outputId": "e7411242-728a-4a15-9350-54cd765481e9"
      },
      "source": [
        "df.head()"
      ],
      "execution_count": null,
      "outputs": [
        {
          "output_type": "execute_result",
          "data": {
            "text/html": [
              "<div>\n",
              "<style scoped>\n",
              "    .dataframe tbody tr th:only-of-type {\n",
              "        vertical-align: middle;\n",
              "    }\n",
              "\n",
              "    .dataframe tbody tr th {\n",
              "        vertical-align: top;\n",
              "    }\n",
              "\n",
              "    .dataframe thead th {\n",
              "        text-align: right;\n",
              "    }\n",
              "</style>\n",
              "<table border=\"1\" class=\"dataframe\">\n",
              "  <thead>\n",
              "    <tr style=\"text-align: right;\">\n",
              "      <th></th>\n",
              "      <th>customer_id</th>\n",
              "      <th>vintage</th>\n",
              "      <th>age</th>\n",
              "      <th>gender</th>\n",
              "      <th>dependents</th>\n",
              "      <th>occupation</th>\n",
              "      <th>city</th>\n",
              "      <th>customer_nw_category</th>\n",
              "      <th>branch_code</th>\n",
              "      <th>current_balance</th>\n",
              "      <th>previous_month_end_balance</th>\n",
              "      <th>average_monthly_balance_prevQ</th>\n",
              "      <th>average_monthly_balance_prevQ2</th>\n",
              "      <th>current_month_credit</th>\n",
              "      <th>previous_month_credit</th>\n",
              "      <th>current_month_debit</th>\n",
              "      <th>previous_month_debit</th>\n",
              "      <th>current_month_balance</th>\n",
              "      <th>previous_month_balance</th>\n",
              "      <th>churn</th>\n",
              "      <th>last_transaction</th>\n",
              "    </tr>\n",
              "  </thead>\n",
              "  <tbody>\n",
              "    <tr>\n",
              "      <th>0</th>\n",
              "      <td>1</td>\n",
              "      <td>2101</td>\n",
              "      <td>66</td>\n",
              "      <td>Male</td>\n",
              "      <td>0.0</td>\n",
              "      <td>self_employed</td>\n",
              "      <td>187.0</td>\n",
              "      <td>2</td>\n",
              "      <td>755</td>\n",
              "      <td>1458.71</td>\n",
              "      <td>1458.71</td>\n",
              "      <td>1458.71</td>\n",
              "      <td>1449.07</td>\n",
              "      <td>0.20</td>\n",
              "      <td>0.20</td>\n",
              "      <td>0.20</td>\n",
              "      <td>0.20</td>\n",
              "      <td>1458.71</td>\n",
              "      <td>1458.71</td>\n",
              "      <td>0</td>\n",
              "      <td>2019-05-21</td>\n",
              "    </tr>\n",
              "    <tr>\n",
              "      <th>1</th>\n",
              "      <td>2</td>\n",
              "      <td>2348</td>\n",
              "      <td>35</td>\n",
              "      <td>Male</td>\n",
              "      <td>0.0</td>\n",
              "      <td>self_employed</td>\n",
              "      <td>NaN</td>\n",
              "      <td>2</td>\n",
              "      <td>3214</td>\n",
              "      <td>5390.37</td>\n",
              "      <td>8704.66</td>\n",
              "      <td>7799.26</td>\n",
              "      <td>12419.41</td>\n",
              "      <td>0.56</td>\n",
              "      <td>0.56</td>\n",
              "      <td>5486.27</td>\n",
              "      <td>100.56</td>\n",
              "      <td>6496.78</td>\n",
              "      <td>8787.61</td>\n",
              "      <td>0</td>\n",
              "      <td>2019-11-01</td>\n",
              "    </tr>\n",
              "    <tr>\n",
              "      <th>2</th>\n",
              "      <td>4</td>\n",
              "      <td>2194</td>\n",
              "      <td>31</td>\n",
              "      <td>Male</td>\n",
              "      <td>0.0</td>\n",
              "      <td>salaried</td>\n",
              "      <td>146.0</td>\n",
              "      <td>2</td>\n",
              "      <td>41</td>\n",
              "      <td>3913.16</td>\n",
              "      <td>5815.29</td>\n",
              "      <td>4910.17</td>\n",
              "      <td>2815.94</td>\n",
              "      <td>0.61</td>\n",
              "      <td>0.61</td>\n",
              "      <td>6046.73</td>\n",
              "      <td>259.23</td>\n",
              "      <td>5006.28</td>\n",
              "      <td>5070.14</td>\n",
              "      <td>0</td>\n",
              "      <td>NaT</td>\n",
              "    </tr>\n",
              "    <tr>\n",
              "      <th>3</th>\n",
              "      <td>5</td>\n",
              "      <td>2329</td>\n",
              "      <td>90</td>\n",
              "      <td>NaN</td>\n",
              "      <td>NaN</td>\n",
              "      <td>self_employed</td>\n",
              "      <td>1020.0</td>\n",
              "      <td>2</td>\n",
              "      <td>582</td>\n",
              "      <td>2291.91</td>\n",
              "      <td>2291.91</td>\n",
              "      <td>2084.54</td>\n",
              "      <td>1006.54</td>\n",
              "      <td>0.47</td>\n",
              "      <td>0.47</td>\n",
              "      <td>0.47</td>\n",
              "      <td>2143.33</td>\n",
              "      <td>2291.91</td>\n",
              "      <td>1669.79</td>\n",
              "      <td>1</td>\n",
              "      <td>2019-08-06</td>\n",
              "    </tr>\n",
              "    <tr>\n",
              "      <th>4</th>\n",
              "      <td>6</td>\n",
              "      <td>1579</td>\n",
              "      <td>42</td>\n",
              "      <td>Male</td>\n",
              "      <td>2.0</td>\n",
              "      <td>self_employed</td>\n",
              "      <td>1494.0</td>\n",
              "      <td>3</td>\n",
              "      <td>388</td>\n",
              "      <td>927.72</td>\n",
              "      <td>1401.72</td>\n",
              "      <td>1643.31</td>\n",
              "      <td>1871.12</td>\n",
              "      <td>0.33</td>\n",
              "      <td>714.61</td>\n",
              "      <td>588.62</td>\n",
              "      <td>1538.06</td>\n",
              "      <td>1157.15</td>\n",
              "      <td>1677.16</td>\n",
              "      <td>1</td>\n",
              "      <td>2019-11-03</td>\n",
              "    </tr>\n",
              "  </tbody>\n",
              "</table>\n",
              "</div>"
            ],
            "text/plain": [
              "   customer_id  vintage  age  ... previous_month_balance  churn last_transaction\n",
              "0            1     2101   66  ...                1458.71      0       2019-05-21\n",
              "1            2     2348   35  ...                8787.61      0       2019-11-01\n",
              "2            4     2194   31  ...                5070.14      0              NaT\n",
              "3            5     2329   90  ...                1669.79      1       2019-08-06\n",
              "4            6     1579   42  ...                1677.16      1       2019-11-03\n",
              "\n",
              "[5 rows x 21 columns]"
            ]
          },
          "metadata": {
            "tags": []
          },
          "execution_count": 147
        }
      ]
    },
    {
      "cell_type": "markdown",
      "metadata": {
        "id": "iMmPeJPQ1hs6"
      },
      "source": [
        "Summary of dataset"
      ]
    },
    {
      "cell_type": "code",
      "metadata": {
        "colab": {
          "base_uri": "https://localhost:8080/"
        },
        "id": "H1wHSf1cq0p2",
        "outputId": "b39804db-d25c-418c-c6a3-a176fda31c39"
      },
      "source": [
        "df.info()"
      ],
      "execution_count": null,
      "outputs": [
        {
          "output_type": "stream",
          "text": [
            "<class 'pandas.core.frame.DataFrame'>\n",
            "RangeIndex: 28382 entries, 0 to 28381\n",
            "Data columns (total 21 columns):\n",
            " #   Column                          Non-Null Count  Dtype  \n",
            "---  ------                          --------------  -----  \n",
            " 0   customer_id                     28382 non-null  int64  \n",
            " 1   vintage                         28382 non-null  int64  \n",
            " 2   age                             28382 non-null  int64  \n",
            " 3   gender                          27857 non-null  object \n",
            " 4   dependents                      25919 non-null  float64\n",
            " 5   occupation                      28302 non-null  object \n",
            " 6   city                            27579 non-null  float64\n",
            " 7   customer_nw_category            28382 non-null  int64  \n",
            " 8   branch_code                     28382 non-null  int64  \n",
            " 9   current_balance                 28382 non-null  float64\n",
            " 10  previous_month_end_balance      28382 non-null  float64\n",
            " 11  average_monthly_balance_prevQ   28382 non-null  float64\n",
            " 12  average_monthly_balance_prevQ2  28382 non-null  float64\n",
            " 13  current_month_credit            28382 non-null  float64\n",
            " 14  previous_month_credit           28382 non-null  float64\n",
            " 15  current_month_debit             28382 non-null  float64\n",
            " 16  previous_month_debit            28382 non-null  float64\n",
            " 17  current_month_balance           28382 non-null  float64\n",
            " 18  previous_month_balance          28382 non-null  float64\n",
            " 19  churn                           28382 non-null  int64  \n",
            " 20  last_transaction                28382 non-null  object \n",
            "dtypes: float64(12), int64(6), object(3)\n",
            "memory usage: 4.5+ MB\n"
          ],
          "name": "stdout"
        }
      ]
    },
    {
      "cell_type": "markdown",
      "metadata": {
        "id": "87-z-AIS1pmr"
      },
      "source": [
        "Checking Unique values in gender column in dataset"
      ]
    },
    {
      "cell_type": "code",
      "metadata": {
        "colab": {
          "base_uri": "https://localhost:8080/"
        },
        "id": "c6nDLdDxq3aT",
        "outputId": "5662d7d4-cf91-4a36-fea7-b8cd16c43394"
      },
      "source": [
        "df['gender'].unique()"
      ],
      "execution_count": null,
      "outputs": [
        {
          "output_type": "execute_result",
          "data": {
            "text/plain": [
              "array(['Male', nan, 'Female'], dtype=object)"
            ]
          },
          "metadata": {
            "tags": []
          },
          "execution_count": 149
        }
      ]
    },
    {
      "cell_type": "markdown",
      "metadata": {
        "id": "-8nPEqKP1x-o"
      },
      "source": [
        "Checking if any NAN values or missing values present"
      ]
    },
    {
      "cell_type": "code",
      "metadata": {
        "colab": {
          "base_uri": "https://localhost:8080/"
        },
        "id": "UQRp-y3OrCLX",
        "outputId": "7c6105e3-ad34-4c59-c714-73daf47a41ea"
      },
      "source": [
        "df.isna().sum()"
      ],
      "execution_count": null,
      "outputs": [
        {
          "output_type": "execute_result",
          "data": {
            "text/plain": [
              "customer_id                          0\n",
              "vintage                              0\n",
              "age                                  0\n",
              "gender                             525\n",
              "dependents                        2463\n",
              "occupation                          80\n",
              "city                               803\n",
              "customer_nw_category                 0\n",
              "branch_code                          0\n",
              "current_balance                      0\n",
              "previous_month_end_balance           0\n",
              "average_monthly_balance_prevQ        0\n",
              "average_monthly_balance_prevQ2       0\n",
              "current_month_credit                 0\n",
              "previous_month_credit                0\n",
              "current_month_debit                  0\n",
              "previous_month_debit                 0\n",
              "current_month_balance                0\n",
              "previous_month_balance               0\n",
              "churn                                0\n",
              "last_transaction                     0\n",
              "dtype: int64"
            ]
          },
          "metadata": {
            "tags": []
          },
          "execution_count": 150
        }
      ]
    },
    {
      "cell_type": "code",
      "metadata": {
        "id": "UHSRxD-GrOb-"
      },
      "source": [
        "df = df.dropna(how='any')           # assign back\n",
        "df.dropna(how='any', inplace=True)  # set inplace parameter"
      ],
      "execution_count": null,
      "outputs": []
    },
    {
      "cell_type": "code",
      "metadata": {
        "colab": {
          "base_uri": "https://localhost:8080/",
          "height": 222
        },
        "id": "96LQi-DAsEzY",
        "outputId": "33bb6536-4779-4c4c-a132-bee7db18bf8a"
      },
      "source": [
        "df.head()"
      ],
      "execution_count": null,
      "outputs": [
        {
          "output_type": "execute_result",
          "data": {
            "text/html": [
              "<div>\n",
              "<style scoped>\n",
              "    .dataframe tbody tr th:only-of-type {\n",
              "        vertical-align: middle;\n",
              "    }\n",
              "\n",
              "    .dataframe tbody tr th {\n",
              "        vertical-align: top;\n",
              "    }\n",
              "\n",
              "    .dataframe thead th {\n",
              "        text-align: right;\n",
              "    }\n",
              "</style>\n",
              "<table border=\"1\" class=\"dataframe\">\n",
              "  <thead>\n",
              "    <tr style=\"text-align: right;\">\n",
              "      <th></th>\n",
              "      <th>customer_id</th>\n",
              "      <th>vintage</th>\n",
              "      <th>age</th>\n",
              "      <th>gender</th>\n",
              "      <th>dependents</th>\n",
              "      <th>occupation</th>\n",
              "      <th>city</th>\n",
              "      <th>customer_nw_category</th>\n",
              "      <th>branch_code</th>\n",
              "      <th>current_balance</th>\n",
              "      <th>previous_month_end_balance</th>\n",
              "      <th>average_monthly_balance_prevQ</th>\n",
              "      <th>average_monthly_balance_prevQ2</th>\n",
              "      <th>current_month_credit</th>\n",
              "      <th>previous_month_credit</th>\n",
              "      <th>current_month_debit</th>\n",
              "      <th>previous_month_debit</th>\n",
              "      <th>current_month_balance</th>\n",
              "      <th>previous_month_balance</th>\n",
              "      <th>churn</th>\n",
              "      <th>last_transaction</th>\n",
              "    </tr>\n",
              "  </thead>\n",
              "  <tbody>\n",
              "    <tr>\n",
              "      <th>0</th>\n",
              "      <td>1</td>\n",
              "      <td>2101</td>\n",
              "      <td>66</td>\n",
              "      <td>Male</td>\n",
              "      <td>0.0</td>\n",
              "      <td>self_employed</td>\n",
              "      <td>187.0</td>\n",
              "      <td>2</td>\n",
              "      <td>755</td>\n",
              "      <td>1458.71</td>\n",
              "      <td>1458.71</td>\n",
              "      <td>1458.71</td>\n",
              "      <td>1449.07</td>\n",
              "      <td>0.20</td>\n",
              "      <td>0.20</td>\n",
              "      <td>0.20</td>\n",
              "      <td>0.20</td>\n",
              "      <td>1458.71</td>\n",
              "      <td>1458.71</td>\n",
              "      <td>0</td>\n",
              "      <td>2019-05-21</td>\n",
              "    </tr>\n",
              "    <tr>\n",
              "      <th>2</th>\n",
              "      <td>4</td>\n",
              "      <td>2194</td>\n",
              "      <td>31</td>\n",
              "      <td>Male</td>\n",
              "      <td>0.0</td>\n",
              "      <td>salaried</td>\n",
              "      <td>146.0</td>\n",
              "      <td>2</td>\n",
              "      <td>41</td>\n",
              "      <td>3913.16</td>\n",
              "      <td>5815.29</td>\n",
              "      <td>4910.17</td>\n",
              "      <td>2815.94</td>\n",
              "      <td>0.61</td>\n",
              "      <td>0.61</td>\n",
              "      <td>6046.73</td>\n",
              "      <td>259.23</td>\n",
              "      <td>5006.28</td>\n",
              "      <td>5070.14</td>\n",
              "      <td>0</td>\n",
              "      <td>NaT</td>\n",
              "    </tr>\n",
              "    <tr>\n",
              "      <th>4</th>\n",
              "      <td>6</td>\n",
              "      <td>1579</td>\n",
              "      <td>42</td>\n",
              "      <td>Male</td>\n",
              "      <td>2.0</td>\n",
              "      <td>self_employed</td>\n",
              "      <td>1494.0</td>\n",
              "      <td>3</td>\n",
              "      <td>388</td>\n",
              "      <td>927.72</td>\n",
              "      <td>1401.72</td>\n",
              "      <td>1643.31</td>\n",
              "      <td>1871.12</td>\n",
              "      <td>0.33</td>\n",
              "      <td>714.61</td>\n",
              "      <td>588.62</td>\n",
              "      <td>1538.06</td>\n",
              "      <td>1157.15</td>\n",
              "      <td>1677.16</td>\n",
              "      <td>1</td>\n",
              "      <td>2019-11-03</td>\n",
              "    </tr>\n",
              "    <tr>\n",
              "      <th>5</th>\n",
              "      <td>7</td>\n",
              "      <td>1923</td>\n",
              "      <td>42</td>\n",
              "      <td>Female</td>\n",
              "      <td>0.0</td>\n",
              "      <td>self_employed</td>\n",
              "      <td>1096.0</td>\n",
              "      <td>2</td>\n",
              "      <td>1666</td>\n",
              "      <td>15202.20</td>\n",
              "      <td>16059.34</td>\n",
              "      <td>15211.29</td>\n",
              "      <td>13798.82</td>\n",
              "      <td>0.36</td>\n",
              "      <td>0.36</td>\n",
              "      <td>857.50</td>\n",
              "      <td>286.07</td>\n",
              "      <td>15719.44</td>\n",
              "      <td>15349.75</td>\n",
              "      <td>0</td>\n",
              "      <td>2019-11-01</td>\n",
              "    </tr>\n",
              "    <tr>\n",
              "      <th>6</th>\n",
              "      <td>8</td>\n",
              "      <td>2048</td>\n",
              "      <td>72</td>\n",
              "      <td>Male</td>\n",
              "      <td>0.0</td>\n",
              "      <td>retired</td>\n",
              "      <td>1020.0</td>\n",
              "      <td>1</td>\n",
              "      <td>1</td>\n",
              "      <td>7006.93</td>\n",
              "      <td>7714.19</td>\n",
              "      <td>7859.74</td>\n",
              "      <td>11232.37</td>\n",
              "      <td>0.64</td>\n",
              "      <td>0.64</td>\n",
              "      <td>1299.64</td>\n",
              "      <td>439.26</td>\n",
              "      <td>7076.06</td>\n",
              "      <td>7755.98</td>\n",
              "      <td>0</td>\n",
              "      <td>2019-09-24</td>\n",
              "    </tr>\n",
              "  </tbody>\n",
              "</table>\n",
              "</div>"
            ],
            "text/plain": [
              "   customer_id  vintage  age  ... previous_month_balance  churn last_transaction\n",
              "0            1     2101   66  ...                1458.71      0       2019-05-21\n",
              "2            4     2194   31  ...                5070.14      0              NaT\n",
              "4            6     1579   42  ...                1677.16      1       2019-11-03\n",
              "5            7     1923   42  ...               15349.75      0       2019-11-01\n",
              "6            8     2048   72  ...                7755.98      0       2019-09-24\n",
              "\n",
              "[5 rows x 21 columns]"
            ]
          },
          "metadata": {
            "tags": []
          },
          "execution_count": 152
        }
      ]
    },
    {
      "cell_type": "markdown",
      "metadata": {
        "id": "H5KPzvYu2I3r"
      },
      "source": [
        "Mapping String values in gender column to integer values"
      ]
    },
    {
      "cell_type": "code",
      "metadata": {
        "id": "Our1rJFvsGV9"
      },
      "source": [
        "df['gender']=df['gender'].map({'Male':0,'Female':1})"
      ],
      "execution_count": null,
      "outputs": []
    },
    {
      "cell_type": "code",
      "metadata": {
        "colab": {
          "base_uri": "https://localhost:8080/"
        },
        "id": "V3A3HRLstvTE",
        "outputId": "be94f479-48fe-4d54-d1f4-786fc50e8f20"
      },
      "source": [
        "df.info()"
      ],
      "execution_count": null,
      "outputs": [
        {
          "output_type": "stream",
          "text": [
            "<class 'pandas.core.frame.DataFrame'>\n",
            "Int64Index: 24832 entries, 0 to 28381\n",
            "Data columns (total 21 columns):\n",
            " #   Column                          Non-Null Count  Dtype  \n",
            "---  ------                          --------------  -----  \n",
            " 0   customer_id                     24832 non-null  int64  \n",
            " 1   vintage                         24832 non-null  int64  \n",
            " 2   age                             24832 non-null  int64  \n",
            " 3   gender                          24832 non-null  int64  \n",
            " 4   dependents                      24832 non-null  float64\n",
            " 5   occupation                      24832 non-null  object \n",
            " 6   city                            24832 non-null  float64\n",
            " 7   customer_nw_category            24832 non-null  int64  \n",
            " 8   branch_code                     24832 non-null  int64  \n",
            " 9   current_balance                 24832 non-null  float64\n",
            " 10  previous_month_end_balance      24832 non-null  float64\n",
            " 11  average_monthly_balance_prevQ   24832 non-null  float64\n",
            " 12  average_monthly_balance_prevQ2  24832 non-null  float64\n",
            " 13  current_month_credit            24832 non-null  float64\n",
            " 14  previous_month_credit           24832 non-null  float64\n",
            " 15  current_month_debit             24832 non-null  float64\n",
            " 16  previous_month_debit            24832 non-null  float64\n",
            " 17  current_month_balance           24832 non-null  float64\n",
            " 18  previous_month_balance          24832 non-null  float64\n",
            " 19  churn                           24832 non-null  int64  \n",
            " 20  last_transaction                24832 non-null  object \n",
            "dtypes: float64(12), int64(7), object(2)\n",
            "memory usage: 4.2+ MB\n"
          ],
          "name": "stdout"
        }
      ]
    },
    {
      "cell_type": "code",
      "metadata": {
        "colab": {
          "base_uri": "https://localhost:8080/"
        },
        "id": "NfF59CKBt2JK",
        "outputId": "e512cae8-6d1b-4607-ff49-3f6507fa9d71"
      },
      "source": [
        "df.isna().sum()"
      ],
      "execution_count": null,
      "outputs": [
        {
          "output_type": "execute_result",
          "data": {
            "text/plain": [
              "customer_id                       0\n",
              "vintage                           0\n",
              "age                               0\n",
              "gender                            0\n",
              "dependents                        0\n",
              "occupation                        0\n",
              "city                              0\n",
              "customer_nw_category              0\n",
              "branch_code                       0\n",
              "current_balance                   0\n",
              "previous_month_end_balance        0\n",
              "average_monthly_balance_prevQ     0\n",
              "average_monthly_balance_prevQ2    0\n",
              "current_month_credit              0\n",
              "previous_month_credit             0\n",
              "current_month_debit               0\n",
              "previous_month_debit              0\n",
              "current_month_balance             0\n",
              "previous_month_balance            0\n",
              "churn                             0\n",
              "last_transaction                  0\n",
              "dtype: int64"
            ]
          },
          "metadata": {
            "tags": []
          },
          "execution_count": 155
        }
      ]
    },
    {
      "cell_type": "code",
      "metadata": {
        "colab": {
          "base_uri": "https://localhost:8080/",
          "height": 222
        },
        "id": "hZ8OFU5JuGnf",
        "outputId": "317c959e-1d34-4240-8577-66bcfb6d94d7"
      },
      "source": [
        "df.head()"
      ],
      "execution_count": null,
      "outputs": [
        {
          "output_type": "execute_result",
          "data": {
            "text/html": [
              "<div>\n",
              "<style scoped>\n",
              "    .dataframe tbody tr th:only-of-type {\n",
              "        vertical-align: middle;\n",
              "    }\n",
              "\n",
              "    .dataframe tbody tr th {\n",
              "        vertical-align: top;\n",
              "    }\n",
              "\n",
              "    .dataframe thead th {\n",
              "        text-align: right;\n",
              "    }\n",
              "</style>\n",
              "<table border=\"1\" class=\"dataframe\">\n",
              "  <thead>\n",
              "    <tr style=\"text-align: right;\">\n",
              "      <th></th>\n",
              "      <th>customer_id</th>\n",
              "      <th>vintage</th>\n",
              "      <th>age</th>\n",
              "      <th>gender</th>\n",
              "      <th>dependents</th>\n",
              "      <th>occupation</th>\n",
              "      <th>city</th>\n",
              "      <th>customer_nw_category</th>\n",
              "      <th>branch_code</th>\n",
              "      <th>current_balance</th>\n",
              "      <th>previous_month_end_balance</th>\n",
              "      <th>average_monthly_balance_prevQ</th>\n",
              "      <th>average_monthly_balance_prevQ2</th>\n",
              "      <th>current_month_credit</th>\n",
              "      <th>previous_month_credit</th>\n",
              "      <th>current_month_debit</th>\n",
              "      <th>previous_month_debit</th>\n",
              "      <th>current_month_balance</th>\n",
              "      <th>previous_month_balance</th>\n",
              "      <th>churn</th>\n",
              "      <th>last_transaction</th>\n",
              "    </tr>\n",
              "  </thead>\n",
              "  <tbody>\n",
              "    <tr>\n",
              "      <th>0</th>\n",
              "      <td>1</td>\n",
              "      <td>2101</td>\n",
              "      <td>66</td>\n",
              "      <td>0</td>\n",
              "      <td>0.0</td>\n",
              "      <td>self_employed</td>\n",
              "      <td>187.0</td>\n",
              "      <td>2</td>\n",
              "      <td>755</td>\n",
              "      <td>1458.71</td>\n",
              "      <td>1458.71</td>\n",
              "      <td>1458.71</td>\n",
              "      <td>1449.07</td>\n",
              "      <td>0.20</td>\n",
              "      <td>0.20</td>\n",
              "      <td>0.20</td>\n",
              "      <td>0.20</td>\n",
              "      <td>1458.71</td>\n",
              "      <td>1458.71</td>\n",
              "      <td>0</td>\n",
              "      <td>2019-05-21</td>\n",
              "    </tr>\n",
              "    <tr>\n",
              "      <th>2</th>\n",
              "      <td>4</td>\n",
              "      <td>2194</td>\n",
              "      <td>31</td>\n",
              "      <td>0</td>\n",
              "      <td>0.0</td>\n",
              "      <td>salaried</td>\n",
              "      <td>146.0</td>\n",
              "      <td>2</td>\n",
              "      <td>41</td>\n",
              "      <td>3913.16</td>\n",
              "      <td>5815.29</td>\n",
              "      <td>4910.17</td>\n",
              "      <td>2815.94</td>\n",
              "      <td>0.61</td>\n",
              "      <td>0.61</td>\n",
              "      <td>6046.73</td>\n",
              "      <td>259.23</td>\n",
              "      <td>5006.28</td>\n",
              "      <td>5070.14</td>\n",
              "      <td>0</td>\n",
              "      <td>NaT</td>\n",
              "    </tr>\n",
              "    <tr>\n",
              "      <th>4</th>\n",
              "      <td>6</td>\n",
              "      <td>1579</td>\n",
              "      <td>42</td>\n",
              "      <td>0</td>\n",
              "      <td>2.0</td>\n",
              "      <td>self_employed</td>\n",
              "      <td>1494.0</td>\n",
              "      <td>3</td>\n",
              "      <td>388</td>\n",
              "      <td>927.72</td>\n",
              "      <td>1401.72</td>\n",
              "      <td>1643.31</td>\n",
              "      <td>1871.12</td>\n",
              "      <td>0.33</td>\n",
              "      <td>714.61</td>\n",
              "      <td>588.62</td>\n",
              "      <td>1538.06</td>\n",
              "      <td>1157.15</td>\n",
              "      <td>1677.16</td>\n",
              "      <td>1</td>\n",
              "      <td>2019-11-03</td>\n",
              "    </tr>\n",
              "    <tr>\n",
              "      <th>5</th>\n",
              "      <td>7</td>\n",
              "      <td>1923</td>\n",
              "      <td>42</td>\n",
              "      <td>1</td>\n",
              "      <td>0.0</td>\n",
              "      <td>self_employed</td>\n",
              "      <td>1096.0</td>\n",
              "      <td>2</td>\n",
              "      <td>1666</td>\n",
              "      <td>15202.20</td>\n",
              "      <td>16059.34</td>\n",
              "      <td>15211.29</td>\n",
              "      <td>13798.82</td>\n",
              "      <td>0.36</td>\n",
              "      <td>0.36</td>\n",
              "      <td>857.50</td>\n",
              "      <td>286.07</td>\n",
              "      <td>15719.44</td>\n",
              "      <td>15349.75</td>\n",
              "      <td>0</td>\n",
              "      <td>2019-11-01</td>\n",
              "    </tr>\n",
              "    <tr>\n",
              "      <th>6</th>\n",
              "      <td>8</td>\n",
              "      <td>2048</td>\n",
              "      <td>72</td>\n",
              "      <td>0</td>\n",
              "      <td>0.0</td>\n",
              "      <td>retired</td>\n",
              "      <td>1020.0</td>\n",
              "      <td>1</td>\n",
              "      <td>1</td>\n",
              "      <td>7006.93</td>\n",
              "      <td>7714.19</td>\n",
              "      <td>7859.74</td>\n",
              "      <td>11232.37</td>\n",
              "      <td>0.64</td>\n",
              "      <td>0.64</td>\n",
              "      <td>1299.64</td>\n",
              "      <td>439.26</td>\n",
              "      <td>7076.06</td>\n",
              "      <td>7755.98</td>\n",
              "      <td>0</td>\n",
              "      <td>2019-09-24</td>\n",
              "    </tr>\n",
              "  </tbody>\n",
              "</table>\n",
              "</div>"
            ],
            "text/plain": [
              "   customer_id  vintage  age  ...  previous_month_balance  churn last_transaction\n",
              "0            1     2101   66  ...                 1458.71      0       2019-05-21\n",
              "2            4     2194   31  ...                 5070.14      0              NaT\n",
              "4            6     1579   42  ...                 1677.16      1       2019-11-03\n",
              "5            7     1923   42  ...                15349.75      0       2019-11-01\n",
              "6            8     2048   72  ...                 7755.98      0       2019-09-24\n",
              "\n",
              "[5 rows x 21 columns]"
            ]
          },
          "metadata": {
            "tags": []
          },
          "execution_count": 156
        }
      ]
    },
    {
      "cell_type": "code",
      "metadata": {
        "colab": {
          "base_uri": "https://localhost:8080/"
        },
        "id": "zyeobIiAuK1O",
        "outputId": "3af1c4d4-687b-4a26-f7c3-bb0388aed869"
      },
      "source": [
        "df['occupation'].unique()"
      ],
      "execution_count": null,
      "outputs": [
        {
          "output_type": "execute_result",
          "data": {
            "text/plain": [
              "array(['self_employed', 'salaried', 'retired', 'student', 'company'],\n",
              "      dtype=object)"
            ]
          },
          "metadata": {
            "tags": []
          },
          "execution_count": 157
        }
      ]
    },
    {
      "cell_type": "code",
      "metadata": {
        "colab": {
          "base_uri": "https://localhost:8080/",
          "height": 222
        },
        "id": "n2wsAPvquYjp",
        "outputId": "bfb21dd0-7a05-408c-f442-f0834b07b040"
      },
      "source": [
        "df['occupation']=df['occupation'].map({'self_employed':2, 'salaried':3, 'retired':5, 'student':1, 'company':4})\n",
        "df.head()"
      ],
      "execution_count": null,
      "outputs": [
        {
          "output_type": "execute_result",
          "data": {
            "text/html": [
              "<div>\n",
              "<style scoped>\n",
              "    .dataframe tbody tr th:only-of-type {\n",
              "        vertical-align: middle;\n",
              "    }\n",
              "\n",
              "    .dataframe tbody tr th {\n",
              "        vertical-align: top;\n",
              "    }\n",
              "\n",
              "    .dataframe thead th {\n",
              "        text-align: right;\n",
              "    }\n",
              "</style>\n",
              "<table border=\"1\" class=\"dataframe\">\n",
              "  <thead>\n",
              "    <tr style=\"text-align: right;\">\n",
              "      <th></th>\n",
              "      <th>customer_id</th>\n",
              "      <th>vintage</th>\n",
              "      <th>age</th>\n",
              "      <th>gender</th>\n",
              "      <th>dependents</th>\n",
              "      <th>occupation</th>\n",
              "      <th>city</th>\n",
              "      <th>customer_nw_category</th>\n",
              "      <th>branch_code</th>\n",
              "      <th>current_balance</th>\n",
              "      <th>previous_month_end_balance</th>\n",
              "      <th>average_monthly_balance_prevQ</th>\n",
              "      <th>average_monthly_balance_prevQ2</th>\n",
              "      <th>current_month_credit</th>\n",
              "      <th>previous_month_credit</th>\n",
              "      <th>current_month_debit</th>\n",
              "      <th>previous_month_debit</th>\n",
              "      <th>current_month_balance</th>\n",
              "      <th>previous_month_balance</th>\n",
              "      <th>churn</th>\n",
              "      <th>last_transaction</th>\n",
              "    </tr>\n",
              "  </thead>\n",
              "  <tbody>\n",
              "    <tr>\n",
              "      <th>0</th>\n",
              "      <td>1</td>\n",
              "      <td>2101</td>\n",
              "      <td>66</td>\n",
              "      <td>0</td>\n",
              "      <td>0.0</td>\n",
              "      <td>2</td>\n",
              "      <td>187.0</td>\n",
              "      <td>2</td>\n",
              "      <td>755</td>\n",
              "      <td>1458.71</td>\n",
              "      <td>1458.71</td>\n",
              "      <td>1458.71</td>\n",
              "      <td>1449.07</td>\n",
              "      <td>0.20</td>\n",
              "      <td>0.20</td>\n",
              "      <td>0.20</td>\n",
              "      <td>0.20</td>\n",
              "      <td>1458.71</td>\n",
              "      <td>1458.71</td>\n",
              "      <td>0</td>\n",
              "      <td>2019-05-21</td>\n",
              "    </tr>\n",
              "    <tr>\n",
              "      <th>2</th>\n",
              "      <td>4</td>\n",
              "      <td>2194</td>\n",
              "      <td>31</td>\n",
              "      <td>0</td>\n",
              "      <td>0.0</td>\n",
              "      <td>3</td>\n",
              "      <td>146.0</td>\n",
              "      <td>2</td>\n",
              "      <td>41</td>\n",
              "      <td>3913.16</td>\n",
              "      <td>5815.29</td>\n",
              "      <td>4910.17</td>\n",
              "      <td>2815.94</td>\n",
              "      <td>0.61</td>\n",
              "      <td>0.61</td>\n",
              "      <td>6046.73</td>\n",
              "      <td>259.23</td>\n",
              "      <td>5006.28</td>\n",
              "      <td>5070.14</td>\n",
              "      <td>0</td>\n",
              "      <td>NaT</td>\n",
              "    </tr>\n",
              "    <tr>\n",
              "      <th>4</th>\n",
              "      <td>6</td>\n",
              "      <td>1579</td>\n",
              "      <td>42</td>\n",
              "      <td>0</td>\n",
              "      <td>2.0</td>\n",
              "      <td>2</td>\n",
              "      <td>1494.0</td>\n",
              "      <td>3</td>\n",
              "      <td>388</td>\n",
              "      <td>927.72</td>\n",
              "      <td>1401.72</td>\n",
              "      <td>1643.31</td>\n",
              "      <td>1871.12</td>\n",
              "      <td>0.33</td>\n",
              "      <td>714.61</td>\n",
              "      <td>588.62</td>\n",
              "      <td>1538.06</td>\n",
              "      <td>1157.15</td>\n",
              "      <td>1677.16</td>\n",
              "      <td>1</td>\n",
              "      <td>2019-11-03</td>\n",
              "    </tr>\n",
              "    <tr>\n",
              "      <th>5</th>\n",
              "      <td>7</td>\n",
              "      <td>1923</td>\n",
              "      <td>42</td>\n",
              "      <td>1</td>\n",
              "      <td>0.0</td>\n",
              "      <td>2</td>\n",
              "      <td>1096.0</td>\n",
              "      <td>2</td>\n",
              "      <td>1666</td>\n",
              "      <td>15202.20</td>\n",
              "      <td>16059.34</td>\n",
              "      <td>15211.29</td>\n",
              "      <td>13798.82</td>\n",
              "      <td>0.36</td>\n",
              "      <td>0.36</td>\n",
              "      <td>857.50</td>\n",
              "      <td>286.07</td>\n",
              "      <td>15719.44</td>\n",
              "      <td>15349.75</td>\n",
              "      <td>0</td>\n",
              "      <td>2019-11-01</td>\n",
              "    </tr>\n",
              "    <tr>\n",
              "      <th>6</th>\n",
              "      <td>8</td>\n",
              "      <td>2048</td>\n",
              "      <td>72</td>\n",
              "      <td>0</td>\n",
              "      <td>0.0</td>\n",
              "      <td>5</td>\n",
              "      <td>1020.0</td>\n",
              "      <td>1</td>\n",
              "      <td>1</td>\n",
              "      <td>7006.93</td>\n",
              "      <td>7714.19</td>\n",
              "      <td>7859.74</td>\n",
              "      <td>11232.37</td>\n",
              "      <td>0.64</td>\n",
              "      <td>0.64</td>\n",
              "      <td>1299.64</td>\n",
              "      <td>439.26</td>\n",
              "      <td>7076.06</td>\n",
              "      <td>7755.98</td>\n",
              "      <td>0</td>\n",
              "      <td>2019-09-24</td>\n",
              "    </tr>\n",
              "  </tbody>\n",
              "</table>\n",
              "</div>"
            ],
            "text/plain": [
              "   customer_id  vintage  age  ...  previous_month_balance  churn  last_transaction\n",
              "0            1     2101   66  ...                 1458.71      0        2019-05-21\n",
              "2            4     2194   31  ...                 5070.14      0               NaT\n",
              "4            6     1579   42  ...                 1677.16      1        2019-11-03\n",
              "5            7     1923   42  ...                15349.75      0        2019-11-01\n",
              "6            8     2048   72  ...                 7755.98      0        2019-09-24\n",
              "\n",
              "[5 rows x 21 columns]"
            ]
          },
          "metadata": {
            "tags": []
          },
          "execution_count": 158
        }
      ]
    },
    {
      "cell_type": "code",
      "metadata": {
        "colab": {
          "base_uri": "https://localhost:8080/"
        },
        "id": "F6-IeLUCuqWA",
        "outputId": "f541b8d2-fba6-439b-dceb-d5b14183c071"
      },
      "source": [
        "df['last_transaction'].unique()"
      ],
      "execution_count": null,
      "outputs": [
        {
          "output_type": "execute_result",
          "data": {
            "text/plain": [
              "array(['2019-05-21', 'NaT', '2019-11-03', '2019-11-01', '2019-09-24',\n",
              "       '2019-07-12', '2019-12-12', '2019-12-31', '2019-12-26',\n",
              "       '2019-12-11', '2019-11-14', '2019-03-03', '2019-11-09',\n",
              "       '2019-12-28', '2019-10-23', '2019-11-30', '2019-12-08',\n",
              "       '2019-12-18', '2019-12-27', '2019-12-22', '2019-12-04',\n",
              "       '2019-11-25', '2019-08-28', '2019-10-15', '2019-12-21',\n",
              "       '2019-09-25', '2019-12-05', '2019-09-22', '2019-12-24',\n",
              "       '2019-12-20', '2019-07-24', '2019-12-17', '2019-09-27',\n",
              "       '2019-12-14', '2019-09-06', '2019-10-16', '2019-12-13',\n",
              "       '2019-12-03', '2019-12-06', '2019-07-11', '2019-11-15',\n",
              "       '2019-12-19', '2019-12-25', '2019-08-15', '2019-08-27',\n",
              "       '2019-11-12', '2019-05-15', '2019-11-16', '2019-10-17',\n",
              "       '2019-05-26', '2019-10-22', '2019-12-01', '2019-07-04',\n",
              "       '2019-11-22', '2019-06-26', '2019-10-11', '2019-03-09',\n",
              "       '2019-10-29', '2019-07-10', '2019-09-26', '2019-09-20',\n",
              "       '2019-11-21', '2019-07-20', '2019-09-12', '2019-05-14',\n",
              "       '2019-10-05', '2019-11-26', '2019-10-06', '2019-11-13',\n",
              "       '2019-08-24', '2019-10-31', '2019-06-09', '2019-04-18',\n",
              "       '2019-12-10', '2019-08-21', '2019-06-05', '2019-11-08',\n",
              "       '2019-12-07', '2019-08-18', '2019-08-04', '2019-03-20',\n",
              "       '2019-08-16', '2019-07-16', '2019-09-14', '2019-02-26',\n",
              "       '2019-11-23', '2019-05-18', '2019-11-06', '2019-10-24',\n",
              "       '2019-09-13', '2019-09-04', '2019-01-08', '2019-10-20',\n",
              "       '2019-01-24', '2019-09-19', '2019-06-14', '2019-04-17',\n",
              "       '2019-08-29', '2019-10-30', '2019-11-05', '2019-10-03',\n",
              "       '2019-10-01', '2019-08-07', '2019-11-17', '2019-11-20',\n",
              "       '2019-08-02', '2019-08-30', '2019-10-07', '2019-09-05',\n",
              "       '2019-10-02', '2019-09-07', '2019-12-02', '2019-10-04',\n",
              "       '2019-02-15', '2019-02-27', '2019-10-13', '2019-08-01',\n",
              "       '2019-03-14', '2019-07-17', '2019-05-08', '2019-06-28',\n",
              "       '2019-11-19', '2019-12-15', '2019-10-19', '2019-12-30',\n",
              "       '2019-10-12', '2019-07-21', '2019-07-22', '2019-06-02',\n",
              "       '2019-03-08', '2019-09-03', '2019-05-12', '2019-10-21',\n",
              "       '2019-02-14', '2019-11-28', '2019-02-21', '2019-06-21',\n",
              "       '2019-01-29', '2019-06-27', '2019-07-06', '2019-06-07',\n",
              "       '2019-09-18', '2019-07-25', '2019-08-26', '2019-04-16',\n",
              "       '2019-08-08', '2019-03-06', '2019-11-29', '2019-03-16',\n",
              "       '2019-07-09', '2019-10-09', '2019-12-16', '2019-07-30',\n",
              "       '2019-11-24', '2019-04-19', '2019-04-07', '2019-11-02',\n",
              "       '2019-06-13', '2019-11-18', '2019-12-09', '2019-01-19',\n",
              "       '2019-10-27', '2019-03-22', '2019-06-22', '2019-04-09',\n",
              "       '2019-08-14', '2019-08-09', '2019-02-05', '2019-06-29',\n",
              "       '2019-07-05', '2019-04-28', '2019-01-15', '2019-07-03',\n",
              "       '2019-03-29', '2019-08-17', '2019-07-13', '2019-05-23',\n",
              "       '2019-08-31', '2019-09-08', '2019-05-25', '2019-04-26',\n",
              "       '2019-05-29', '2019-08-20', '2019-05-11', '2019-06-18',\n",
              "       '2019-11-04', '2019-07-02', '2019-01-18', '2019-04-23',\n",
              "       '2019-10-18', '2019-01-02', '2019-02-02', '2019-07-26',\n",
              "       '2019-09-21', '2019-05-09', '2019-07-31', '2019-03-01',\n",
              "       '2019-11-27', '2019-05-01', '2019-05-17', '2019-09-11',\n",
              "       '2019-10-25', '2019-11-07', '2019-05-30', '2019-09-17',\n",
              "       '2019-06-04', '2019-12-23', '2019-05-07', '2019-04-20',\n",
              "       '2019-02-23', '2019-04-03', '2019-09-28', '2019-03-05',\n",
              "       '2019-01-30', '2019-01-26', '2019-02-04', '2019-03-19',\n",
              "       '2019-06-08', '2019-04-04', '2019-06-25', '2019-07-18',\n",
              "       '2019-08-13', '2019-08-22', '2019-04-27', '2019-06-30',\n",
              "       '2019-01-04', '2019-06-01', '2019-10-08', '2018-12-31',\n",
              "       '2019-04-02', '2019-08-10', '2019-06-23', '2019-01-23',\n",
              "       '2019-09-01', '2019-02-17', '2019-03-23', '2019-12-29',\n",
              "       '2019-09-15', '2019-06-20', '2019-04-06', '2019-07-28',\n",
              "       '2019-09-10', '2019-03-30', '2019-05-24', '2019-07-19',\n",
              "       '2019-01-22', '2019-03-26', '2019-04-12', '2019-03-28',\n",
              "       '2019-06-19', '2019-11-11', '2019-03-27', '2019-05-16',\n",
              "       '2019-06-12', '2019-01-06', '2019-02-16', '2019-04-24',\n",
              "       '2019-02-20', '2019-05-05', '2019-01-16', '2019-11-10',\n",
              "       '2019-03-13', '2019-05-31', '2019-02-25', '2019-04-21',\n",
              "       '2019-05-04', '2019-07-27', '2019-04-30', '2019-02-24',\n",
              "       '2019-07-23', '2019-09-09', '2019-09-23', '2019-03-07',\n",
              "       '2019-03-15', '2019-06-11', '2019-08-06', '2019-07-07',\n",
              "       '2019-02-12', '2019-04-25', '2019-04-11', '2019-06-15',\n",
              "       '2019-06-06', '2019-01-13', '2019-04-15', '2019-04-05',\n",
              "       '2019-02-01', '2019-05-02', '2019-04-08', '2019-03-10',\n",
              "       '2019-02-10', '2019-07-01', '2019-04-13', '2019-05-28',\n",
              "       '2019-08-23', '2019-03-12', '2019-03-21', '2019-05-22',\n",
              "       '2019-03-02', '2019-01-25', '2019-02-08', '2019-09-30',\n",
              "       '2019-03-11', '2019-02-03', '2019-01-03', '2019-03-17',\n",
              "       '2019-04-10', '2019-01-27', '2019-02-22', '2019-02-09',\n",
              "       '2019-01-10', '2019-02-07', '2019-01-09', '2019-03-24',\n",
              "       '2019-09-29', '2019-05-03', '2019-10-14', '2019-08-05',\n",
              "       '2019-08-03', '2019-06-16', '2019-09-16', '2019-10-26',\n",
              "       '2019-01-20', '2019-05-10', '2019-05-19', '2019-05-06',\n",
              "       '2019-01-12', '2019-01-11', '2019-02-28', '2019-09-02',\n",
              "       '2019-01-21', '2019-07-29', '2019-01-28', '2019-01-05',\n",
              "       '2019-04-01', '2019-04-29', '2019-02-06', '2019-03-18',\n",
              "       '2019-06-24', '2019-04-14', '2019-10-28', '2019-02-19',\n",
              "       '2019-01-17', '2019-08-12', '2019-01-01', '2019-03-31',\n",
              "       '2019-08-19', '2019-06-17', '2019-07-08', '2019-05-27',\n",
              "       '2019-06-03', '2019-10-10', '2019-02-11', '2019-01-14',\n",
              "       '2019-02-13', '2019-03-04', '2019-07-14', '2019-08-25',\n",
              "       '2019-07-15'], dtype=object)"
            ]
          },
          "metadata": {
            "tags": []
          },
          "execution_count": 159
        }
      ]
    },
    {
      "cell_type": "markdown",
      "metadata": {
        "id": "vUCQ6UPd2X8n"
      },
      "source": [
        "Changing DD/MM/YY values to YY "
      ]
    },
    {
      "cell_type": "code",
      "metadata": {
        "id": "LQJPlmMJuzWR"
      },
      "source": [
        "df['last_transaction']=pd.DatetimeIndex(df['last_transaction']).year"
      ],
      "execution_count": null,
      "outputs": []
    },
    {
      "cell_type": "code",
      "metadata": {
        "colab": {
          "base_uri": "https://localhost:8080/",
          "height": 222
        },
        "id": "B0FUqKiXvLUy",
        "outputId": "034c1765-d7e2-4d25-f191-7c263a2af145"
      },
      "source": [
        "df.head()"
      ],
      "execution_count": null,
      "outputs": [
        {
          "output_type": "execute_result",
          "data": {
            "text/html": [
              "<div>\n",
              "<style scoped>\n",
              "    .dataframe tbody tr th:only-of-type {\n",
              "        vertical-align: middle;\n",
              "    }\n",
              "\n",
              "    .dataframe tbody tr th {\n",
              "        vertical-align: top;\n",
              "    }\n",
              "\n",
              "    .dataframe thead th {\n",
              "        text-align: right;\n",
              "    }\n",
              "</style>\n",
              "<table border=\"1\" class=\"dataframe\">\n",
              "  <thead>\n",
              "    <tr style=\"text-align: right;\">\n",
              "      <th></th>\n",
              "      <th>customer_id</th>\n",
              "      <th>vintage</th>\n",
              "      <th>age</th>\n",
              "      <th>gender</th>\n",
              "      <th>dependents</th>\n",
              "      <th>occupation</th>\n",
              "      <th>city</th>\n",
              "      <th>customer_nw_category</th>\n",
              "      <th>branch_code</th>\n",
              "      <th>current_balance</th>\n",
              "      <th>previous_month_end_balance</th>\n",
              "      <th>average_monthly_balance_prevQ</th>\n",
              "      <th>average_monthly_balance_prevQ2</th>\n",
              "      <th>current_month_credit</th>\n",
              "      <th>previous_month_credit</th>\n",
              "      <th>current_month_debit</th>\n",
              "      <th>previous_month_debit</th>\n",
              "      <th>current_month_balance</th>\n",
              "      <th>previous_month_balance</th>\n",
              "      <th>churn</th>\n",
              "      <th>last_transaction</th>\n",
              "    </tr>\n",
              "  </thead>\n",
              "  <tbody>\n",
              "    <tr>\n",
              "      <th>0</th>\n",
              "      <td>1</td>\n",
              "      <td>2101</td>\n",
              "      <td>66</td>\n",
              "      <td>0</td>\n",
              "      <td>0.0</td>\n",
              "      <td>2</td>\n",
              "      <td>187.0</td>\n",
              "      <td>2</td>\n",
              "      <td>755</td>\n",
              "      <td>1458.71</td>\n",
              "      <td>1458.71</td>\n",
              "      <td>1458.71</td>\n",
              "      <td>1449.07</td>\n",
              "      <td>0.20</td>\n",
              "      <td>0.20</td>\n",
              "      <td>0.20</td>\n",
              "      <td>0.20</td>\n",
              "      <td>1458.71</td>\n",
              "      <td>1458.71</td>\n",
              "      <td>0</td>\n",
              "      <td>2019.0</td>\n",
              "    </tr>\n",
              "    <tr>\n",
              "      <th>2</th>\n",
              "      <td>4</td>\n",
              "      <td>2194</td>\n",
              "      <td>31</td>\n",
              "      <td>0</td>\n",
              "      <td>0.0</td>\n",
              "      <td>3</td>\n",
              "      <td>146.0</td>\n",
              "      <td>2</td>\n",
              "      <td>41</td>\n",
              "      <td>3913.16</td>\n",
              "      <td>5815.29</td>\n",
              "      <td>4910.17</td>\n",
              "      <td>2815.94</td>\n",
              "      <td>0.61</td>\n",
              "      <td>0.61</td>\n",
              "      <td>6046.73</td>\n",
              "      <td>259.23</td>\n",
              "      <td>5006.28</td>\n",
              "      <td>5070.14</td>\n",
              "      <td>0</td>\n",
              "      <td>NaN</td>\n",
              "    </tr>\n",
              "    <tr>\n",
              "      <th>4</th>\n",
              "      <td>6</td>\n",
              "      <td>1579</td>\n",
              "      <td>42</td>\n",
              "      <td>0</td>\n",
              "      <td>2.0</td>\n",
              "      <td>2</td>\n",
              "      <td>1494.0</td>\n",
              "      <td>3</td>\n",
              "      <td>388</td>\n",
              "      <td>927.72</td>\n",
              "      <td>1401.72</td>\n",
              "      <td>1643.31</td>\n",
              "      <td>1871.12</td>\n",
              "      <td>0.33</td>\n",
              "      <td>714.61</td>\n",
              "      <td>588.62</td>\n",
              "      <td>1538.06</td>\n",
              "      <td>1157.15</td>\n",
              "      <td>1677.16</td>\n",
              "      <td>1</td>\n",
              "      <td>2019.0</td>\n",
              "    </tr>\n",
              "    <tr>\n",
              "      <th>5</th>\n",
              "      <td>7</td>\n",
              "      <td>1923</td>\n",
              "      <td>42</td>\n",
              "      <td>1</td>\n",
              "      <td>0.0</td>\n",
              "      <td>2</td>\n",
              "      <td>1096.0</td>\n",
              "      <td>2</td>\n",
              "      <td>1666</td>\n",
              "      <td>15202.20</td>\n",
              "      <td>16059.34</td>\n",
              "      <td>15211.29</td>\n",
              "      <td>13798.82</td>\n",
              "      <td>0.36</td>\n",
              "      <td>0.36</td>\n",
              "      <td>857.50</td>\n",
              "      <td>286.07</td>\n",
              "      <td>15719.44</td>\n",
              "      <td>15349.75</td>\n",
              "      <td>0</td>\n",
              "      <td>2019.0</td>\n",
              "    </tr>\n",
              "    <tr>\n",
              "      <th>6</th>\n",
              "      <td>8</td>\n",
              "      <td>2048</td>\n",
              "      <td>72</td>\n",
              "      <td>0</td>\n",
              "      <td>0.0</td>\n",
              "      <td>5</td>\n",
              "      <td>1020.0</td>\n",
              "      <td>1</td>\n",
              "      <td>1</td>\n",
              "      <td>7006.93</td>\n",
              "      <td>7714.19</td>\n",
              "      <td>7859.74</td>\n",
              "      <td>11232.37</td>\n",
              "      <td>0.64</td>\n",
              "      <td>0.64</td>\n",
              "      <td>1299.64</td>\n",
              "      <td>439.26</td>\n",
              "      <td>7076.06</td>\n",
              "      <td>7755.98</td>\n",
              "      <td>0</td>\n",
              "      <td>2019.0</td>\n",
              "    </tr>\n",
              "  </tbody>\n",
              "</table>\n",
              "</div>"
            ],
            "text/plain": [
              "   customer_id  vintage  age  ...  previous_month_balance  churn  last_transaction\n",
              "0            1     2101   66  ...                 1458.71      0            2019.0\n",
              "2            4     2194   31  ...                 5070.14      0               NaN\n",
              "4            6     1579   42  ...                 1677.16      1            2019.0\n",
              "5            7     1923   42  ...                15349.75      0            2019.0\n",
              "6            8     2048   72  ...                 7755.98      0            2019.0\n",
              "\n",
              "[5 rows x 21 columns]"
            ]
          },
          "metadata": {
            "tags": []
          },
          "execution_count": 161
        }
      ]
    },
    {
      "cell_type": "code",
      "metadata": {
        "id": "_AWLTngVvNja"
      },
      "source": [
        "df.dropna(inplace=True)"
      ],
      "execution_count": null,
      "outputs": []
    },
    {
      "cell_type": "code",
      "metadata": {
        "colab": {
          "base_uri": "https://localhost:8080/"
        },
        "id": "-zhN5KtNvTZ8",
        "outputId": "f27e1cfc-9740-4c9b-b32e-8be11f59cfce"
      },
      "source": [
        "df['last_transaction'].unique()"
      ],
      "execution_count": null,
      "outputs": [
        {
          "output_type": "execute_result",
          "data": {
            "text/plain": [
              "array([2019., 2018.])"
            ]
          },
          "metadata": {
            "tags": []
          },
          "execution_count": 163
        }
      ]
    },
    {
      "cell_type": "code",
      "metadata": {
        "id": "WQe4nWekvih3"
      },
      "source": [
        "df['last_transaction']=df['last_transaction'].map({2019.: 1.0, 2018.: 0.0})"
      ],
      "execution_count": null,
      "outputs": []
    },
    {
      "cell_type": "code",
      "metadata": {
        "colab": {
          "base_uri": "https://localhost:8080/"
        },
        "id": "0sEm-cnKwH0X",
        "outputId": "086950c6-7281-4809-e6d6-7c3488b908ae"
      },
      "source": [
        "df.info()"
      ],
      "execution_count": null,
      "outputs": [
        {
          "output_type": "stream",
          "text": [
            "<class 'pandas.core.frame.DataFrame'>\n",
            "Int64Index: 22067 entries, 0 to 28381\n",
            "Data columns (total 21 columns):\n",
            " #   Column                          Non-Null Count  Dtype  \n",
            "---  ------                          --------------  -----  \n",
            " 0   customer_id                     22067 non-null  int64  \n",
            " 1   vintage                         22067 non-null  int64  \n",
            " 2   age                             22067 non-null  int64  \n",
            " 3   gender                          22067 non-null  int64  \n",
            " 4   dependents                      22067 non-null  float64\n",
            " 5   occupation                      22067 non-null  int64  \n",
            " 6   city                            22067 non-null  float64\n",
            " 7   customer_nw_category            22067 non-null  int64  \n",
            " 8   branch_code                     22067 non-null  int64  \n",
            " 9   current_balance                 22067 non-null  float64\n",
            " 10  previous_month_end_balance      22067 non-null  float64\n",
            " 11  average_monthly_balance_prevQ   22067 non-null  float64\n",
            " 12  average_monthly_balance_prevQ2  22067 non-null  float64\n",
            " 13  current_month_credit            22067 non-null  float64\n",
            " 14  previous_month_credit           22067 non-null  float64\n",
            " 15  current_month_debit             22067 non-null  float64\n",
            " 16  previous_month_debit            22067 non-null  float64\n",
            " 17  current_month_balance           22067 non-null  float64\n",
            " 18  previous_month_balance          22067 non-null  float64\n",
            " 19  churn                           22067 non-null  int64  \n",
            " 20  last_transaction                22067 non-null  float64\n",
            "dtypes: float64(13), int64(8)\n",
            "memory usage: 3.7 MB\n"
          ],
          "name": "stdout"
        }
      ]
    },
    {
      "cell_type": "markdown",
      "metadata": {
        "id": "HQqWUIFu3NiC"
      },
      "source": [
        "Checking for Class Imbalance in Target column "
      ]
    },
    {
      "cell_type": "code",
      "metadata": {
        "colab": {
          "base_uri": "https://localhost:8080/"
        },
        "id": "yr-jn37iwclZ",
        "outputId": "facf241c-e5bc-41f8-c113-e7597a1e8663"
      },
      "source": [
        "df['churn'].value_counts() #Class Imbalance (here, no. of 0's > 1's)"
      ],
      "execution_count": null,
      "outputs": [
        {
          "output_type": "execute_result",
          "data": {
            "text/plain": [
              "0    17793\n",
              "1     4274\n",
              "Name: churn, dtype: int64"
            ]
          },
          "metadata": {
            "tags": []
          },
          "execution_count": 166
        }
      ]
    },
    {
      "cell_type": "markdown",
      "metadata": {
        "id": "m6nz6qCx36lw"
      },
      "source": [
        "Scaling the dataset"
      ]
    },
    {
      "cell_type": "code",
      "metadata": {
        "id": "SpnA3cgUw4Ua"
      },
      "source": [
        "from sklearn.preprocessing import StandardScaler\n",
        "scaler=StandardScaler()\n",
        "Y = df['churn']\n",
        "X = scaler.fit_transform(df.drop(columns=['churn']))\n",
        "X = pd.DataFrame(data = X,columns=df.drop(columns=['churn']).columns)"
      ],
      "execution_count": null,
      "outputs": []
    },
    {
      "cell_type": "markdown",
      "metadata": {
        "id": "7bSqA8434Bjo"
      },
      "source": [
        "X : Dataset without target column\n",
        "\n",
        "Y : Target Column"
      ]
    },
    {
      "cell_type": "code",
      "metadata": {
        "colab": {
          "base_uri": "https://localhost:8080/",
          "height": 222
        },
        "id": "ge1KRgKix4Ko",
        "outputId": "b458bac5-5800-4dbf-def1-2fc88ac4109e"
      },
      "source": [
        "X.head()"
      ],
      "execution_count": null,
      "outputs": [
        {
          "output_type": "execute_result",
          "data": {
            "text/html": [
              "<div>\n",
              "<style scoped>\n",
              "    .dataframe tbody tr th:only-of-type {\n",
              "        vertical-align: middle;\n",
              "    }\n",
              "\n",
              "    .dataframe tbody tr th {\n",
              "        vertical-align: top;\n",
              "    }\n",
              "\n",
              "    .dataframe thead th {\n",
              "        text-align: right;\n",
              "    }\n",
              "</style>\n",
              "<table border=\"1\" class=\"dataframe\">\n",
              "  <thead>\n",
              "    <tr style=\"text-align: right;\">\n",
              "      <th></th>\n",
              "      <th>customer_id</th>\n",
              "      <th>vintage</th>\n",
              "      <th>age</th>\n",
              "      <th>gender</th>\n",
              "      <th>dependents</th>\n",
              "      <th>occupation</th>\n",
              "      <th>city</th>\n",
              "      <th>customer_nw_category</th>\n",
              "      <th>branch_code</th>\n",
              "      <th>current_balance</th>\n",
              "      <th>previous_month_end_balance</th>\n",
              "      <th>average_monthly_balance_prevQ</th>\n",
              "      <th>average_monthly_balance_prevQ2</th>\n",
              "      <th>current_month_credit</th>\n",
              "      <th>previous_month_credit</th>\n",
              "      <th>current_month_debit</th>\n",
              "      <th>previous_month_debit</th>\n",
              "      <th>current_month_balance</th>\n",
              "      <th>previous_month_balance</th>\n",
              "      <th>last_transaction</th>\n",
              "    </tr>\n",
              "  </thead>\n",
              "  <tbody>\n",
              "    <tr>\n",
              "      <th>0</th>\n",
              "      <td>-1.729866</td>\n",
              "      <td>0.038766</td>\n",
              "      <td>1.102219</td>\n",
              "      <td>-0.802630</td>\n",
              "      <td>-0.361368</td>\n",
              "      <td>-0.461652</td>\n",
              "      <td>-1.421546</td>\n",
              "      <td>-0.316621</td>\n",
              "      <td>-0.132092</td>\n",
              "      <td>-0.279943</td>\n",
              "      <td>-0.273788</td>\n",
              "      <td>-0.296992</td>\n",
              "      <td>-0.306752</td>\n",
              "      <td>-0.045521</td>\n",
              "      <td>-0.116198</td>\n",
              "      <td>-0.071082</td>\n",
              "      <td>-0.147773</td>\n",
              "      <td>-0.291313</td>\n",
              "      <td>-0.272852</td>\n",
              "      <td>0.009521</td>\n",
              "    </tr>\n",
              "    <tr>\n",
              "      <th>1</th>\n",
              "      <td>-1.729294</td>\n",
              "      <td>-1.869714</td>\n",
              "      <td>-0.361822</td>\n",
              "      <td>-0.802630</td>\n",
              "      <td>1.553230</td>\n",
              "      <td>-0.461652</td>\n",
              "      <td>1.607811</td>\n",
              "      <td>1.176940</td>\n",
              "      <td>-0.537965</td>\n",
              "      <td>-0.306141</td>\n",
              "      <td>-0.276495</td>\n",
              "      <td>-0.287413</td>\n",
              "      <td>-0.282073</td>\n",
              "      <td>-0.045520</td>\n",
              "      <td>-0.094243</td>\n",
              "      <td>-0.060806</td>\n",
              "      <td>-0.086686</td>\n",
              "      <td>-0.306707</td>\n",
              "      <td>-0.262438</td>\n",
              "      <td>0.009521</td>\n",
              "    </tr>\n",
              "    <tr>\n",
              "      <th>2</th>\n",
              "      <td>-1.729179</td>\n",
              "      <td>-0.612018</td>\n",
              "      <td>-0.361822</td>\n",
              "      <td>1.245905</td>\n",
              "      <td>-0.361368</td>\n",
              "      <td>-0.461652</td>\n",
              "      <td>0.685329</td>\n",
              "      <td>-0.316621</td>\n",
              "      <td>0.875401</td>\n",
              "      <td>0.398145</td>\n",
              "      <td>0.419821</td>\n",
              "      <td>0.416658</td>\n",
              "      <td>0.415396</td>\n",
              "      <td>-0.045520</td>\n",
              "      <td>-0.116193</td>\n",
              "      <td>-0.056111</td>\n",
              "      <td>-0.136418</td>\n",
              "      <td>0.436661</td>\n",
              "      <td>0.389372</td>\n",
              "      <td>0.009521</td>\n",
              "    </tr>\n",
              "    <tr>\n",
              "      <th>3</th>\n",
              "      <td>-1.729065</td>\n",
              "      <td>-0.155007</td>\n",
              "      <td>1.468229</td>\n",
              "      <td>-0.802630</td>\n",
              "      <td>-0.361368</td>\n",
              "      <td>2.862090</td>\n",
              "      <td>0.509176</td>\n",
              "      <td>-1.810182</td>\n",
              "      <td>-0.965956</td>\n",
              "      <td>-0.006200</td>\n",
              "      <td>0.023381</td>\n",
              "      <td>0.035171</td>\n",
              "      <td>0.265323</td>\n",
              "      <td>-0.045516</td>\n",
              "      <td>-0.116184</td>\n",
              "      <td>-0.048389</td>\n",
              "      <td>-0.130333</td>\n",
              "      <td>-0.004561</td>\n",
              "      <td>0.027356</td>\n",
              "      <td>0.009521</td>\n",
              "    </tr>\n",
              "    <tr>\n",
              "      <th>4</th>\n",
              "      <td>-1.728950</td>\n",
              "      <td>-0.297594</td>\n",
              "      <td>-0.117815</td>\n",
              "      <td>-0.802630</td>\n",
              "      <td>-0.361368</td>\n",
              "      <td>-0.461652</td>\n",
              "      <td>-0.410988</td>\n",
              "      <td>-0.316621</td>\n",
              "      <td>-0.616485</td>\n",
              "      <td>0.146240</td>\n",
              "      <td>0.061639</td>\n",
              "      <td>-0.034776</td>\n",
              "      <td>0.562480</td>\n",
              "      <td>-0.045521</td>\n",
              "      <td>-0.116196</td>\n",
              "      <td>-0.063347</td>\n",
              "      <td>0.078178</td>\n",
              "      <td>0.071386</td>\n",
              "      <td>-0.088915</td>\n",
              "      <td>0.009521</td>\n",
              "    </tr>\n",
              "  </tbody>\n",
              "</table>\n",
              "</div>"
            ],
            "text/plain": [
              "   customer_id   vintage  ...  previous_month_balance  last_transaction\n",
              "0    -1.729866  0.038766  ...               -0.272852          0.009521\n",
              "1    -1.729294 -1.869714  ...               -0.262438          0.009521\n",
              "2    -1.729179 -0.612018  ...                0.389372          0.009521\n",
              "3    -1.729065 -0.155007  ...                0.027356          0.009521\n",
              "4    -1.728950 -0.297594  ...               -0.088915          0.009521\n",
              "\n",
              "[5 rows x 20 columns]"
            ]
          },
          "metadata": {
            "tags": []
          },
          "execution_count": 168
        }
      ]
    },
    {
      "cell_type": "markdown",
      "metadata": {
        "id": "83sBnM0B4QOd"
      },
      "source": [
        "Splitting dataset to test & train the data"
      ]
    },
    {
      "cell_type": "code",
      "metadata": {
        "id": "IFmU25Dux77k"
      },
      "source": [
        "from sklearn.model_selection import train_test_split as tts\n",
        "x_train,x_test,y_train,y_test = tts(X,Y,test_size = 0.3,random_state = 101)"
      ],
      "execution_count": null,
      "outputs": []
    },
    {
      "cell_type": "markdown",
      "metadata": {
        "id": "H_xq_DoS4bfn"
      },
      "source": [
        "Modelling Logistic Regression"
      ]
    },
    {
      "cell_type": "code",
      "metadata": {
        "colab": {
          "base_uri": "https://localhost:8080/"
        },
        "id": "wsUYvJuNyJLi",
        "outputId": "33378d7c-f21c-44d0-82b1-81a0db3f71a3"
      },
      "source": [
        "from sklearn.linear_model import LogisticRegression\n",
        "lr = LogisticRegression(class_weight='balanced') \n",
        "lr.fit(x_train,y_train)"
      ],
      "execution_count": null,
      "outputs": [
        {
          "output_type": "execute_result",
          "data": {
            "text/plain": [
              "LogisticRegression(C=1.0, class_weight='balanced', dual=False,\n",
              "                   fit_intercept=True, intercept_scaling=1, l1_ratio=None,\n",
              "                   max_iter=100, multi_class='auto', n_jobs=None, penalty='l2',\n",
              "                   random_state=None, solver='lbfgs', tol=0.0001, verbose=0,\n",
              "                   warm_start=False)"
            ]
          },
          "metadata": {
            "tags": []
          },
          "execution_count": 170
        }
      ]
    },
    {
      "cell_type": "code",
      "metadata": {
        "colab": {
          "base_uri": "https://localhost:8080/"
        },
        "id": "mYJU48KUyv-7",
        "outputId": "8cae297e-18eb-420e-bc30-b98b8ab35075"
      },
      "source": [
        "predictedvalues=lr.predict(x_test)\n",
        "predictedvalues"
      ],
      "execution_count": null,
      "outputs": [
        {
          "output_type": "execute_result",
          "data": {
            "text/plain": [
              "array([0, 0, 0, ..., 0, 1, 0])"
            ]
          },
          "metadata": {
            "tags": []
          },
          "execution_count": 171
        }
      ]
    },
    {
      "cell_type": "code",
      "metadata": {
        "colab": {
          "base_uri": "https://localhost:8080/"
        },
        "id": "1wf9FTz8zOsU",
        "outputId": "feb2af0c-8597-4aa0-837e-cc3e9e2ca918"
      },
      "source": [
        "predicted_probabilities=lr.predict_proba(x_test)\n",
        "predicted_probabilities"
      ],
      "execution_count": null,
      "outputs": [
        {
          "output_type": "execute_result",
          "data": {
            "text/plain": [
              "array([[0.65733286, 0.34266714],\n",
              "       [0.5528913 , 0.4471087 ],\n",
              "       [0.56181366, 0.43818634],\n",
              "       ...,\n",
              "       [0.5098113 , 0.4901887 ],\n",
              "       [0.48050048, 0.51949952],\n",
              "       [0.5754306 , 0.4245694 ]])"
            ]
          },
          "metadata": {
            "tags": []
          },
          "execution_count": 172
        }
      ]
    },
    {
      "cell_type": "code",
      "metadata": {
        "colab": {
          "base_uri": "https://localhost:8080/"
        },
        "id": "xL57sqV4zs2y",
        "outputId": "b0db0dc7-0f18-4fab-d757-abb12b5bb77d"
      },
      "source": [
        "from sklearn.metrics import roc_auc_score\n",
        "roc_auc_score(y_test, predicted_probabilities[:,1]) #ROC Value(i.e Area under ROC curve)"
      ],
      "execution_count": null,
      "outputs": [
        {
          "output_type": "execute_result",
          "data": {
            "text/plain": [
              "0.7490098190611818"
            ]
          },
          "metadata": {
            "tags": []
          },
          "execution_count": 173
        }
      ]
    },
    {
      "cell_type": "code",
      "metadata": {
        "colab": {
          "base_uri": "https://localhost:8080/"
        },
        "id": "nSulcaBhz4ma",
        "outputId": "26f6cca6-ab07-4587-f586-e8bac0cf1163"
      },
      "source": [
        "from sklearn.metrics import confusion_matrix\n",
        "cf = confusion_matrix(y_test, predictedvalues)\n",
        "cf #confusion matrix"
      ],
      "execution_count": null,
      "outputs": [
        {
          "output_type": "execute_result",
          "data": {
            "text/plain": [
              "array([[4080, 1272],\n",
              "       [ 479,  790]])"
            ]
          },
          "metadata": {
            "tags": []
          },
          "execution_count": 174
        }
      ]
    },
    {
      "cell_type": "code",
      "metadata": {
        "colab": {
          "base_uri": "https://localhost:8080/"
        },
        "id": "aiRm19C80zWi",
        "outputId": "f573765a-16af-422e-c0a1-027c939716cb"
      },
      "source": [
        "lr.score(x_test, y_test) #accuracy"
      ],
      "execution_count": null,
      "outputs": [
        {
          "output_type": "execute_result",
          "data": {
            "text/plain": [
              "0.7355384383023712"
            ]
          },
          "metadata": {
            "tags": []
          },
          "execution_count": 175
        }
      ]
    }
  ]
}